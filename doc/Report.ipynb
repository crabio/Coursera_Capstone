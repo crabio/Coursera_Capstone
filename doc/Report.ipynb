{
 "cells": [
  {
   "cell_type": "markdown",
   "metadata": {},
   "source": [
    "## Introduction\n",
    "### Business Problem"
   ]
  },
  {
   "cell_type": "markdown",
   "metadata": {},
   "source": [
    "For the majority of entrepreneurs in the field there is always the problem of choosing a place for a **restaurant / cafe**.\n",
    "So, how we can find and choose best plasce for starting business?"
   ]
  },
  {
   "cell_type": "markdown",
   "metadata": {},
   "source": [
    "There are always a lot of factors affecting the success of establishments in the area.\n",
    "We can develop algorithm to calculate the probability of success or profitability in area and choose best location for new business.\n",
    "We must identify the factors affecting the success of a business and collect them."
   ]
  },
  {
   "cell_type": "markdown",
   "metadata": {},
   "source": [
    "After that we can analyse data and develop algorithm of calculating area profitability score."
   ]
  },
  {
   "cell_type": "markdown",
   "metadata": {},
   "source": [
    "I choose **Moscow, Russia** to like a sample to develop algorithm."
   ]
  },
  {
   "cell_type": "markdown",
   "metadata": {},
   "source": [
    "### Data section"
   ]
  },
  {
   "cell_type": "markdown",
   "metadata": {},
   "source": [
    "In Introduction section it was said that we we must identify the factors affecting the success of a business and collect them. \n",
    "For get all necessary data we should perform theese steps:"
   ]
  },
  {
   "cell_type": "markdown",
   "metadata": {},
   "source": [
    "1. We should collect all neighbourhoods of **Moscow, Russia**. At this tep we can get all **postal codes**from http://mosopen.ru/streets/post_codes_list. But we must pre-process data to have unique postal codes of regions.\n",
    "2. After that we have list of all Moscow postal codes and can get them **coordinates** from **Openstreetmap** with **Nominatim API**. URL must view like *https://nominatim.openstreetmap.org/search?format=xml&city=Moscow&postalcode=117623*\n",
    "3. After collecting all coordinates of postal codes in Moscow to *pandas DataFrame* we can get infromation about most populat venues from **Foursquare**.\n",
    "4. After that we can **aggregate** and **analyze data** like in previous tasks with Toronto data. Can get useful information to dettect reasons of choosing **best location** in Moscow city."
   ]
  },
  {
   "cell_type": "markdown",
   "metadata": {},
   "source": [
    "### Methodology"
   ]
  },
  {
   "cell_type": "markdown",
   "metadata": {},
   "source": [
    "After collecting data from Foursquare for each region of Moscow by postal code we should analyze data to find best region for new cafe/restaurant.<br>\n",
    "We can split methodology in these steps:\n",
    "1. Join venues and region\n",
    "2. Find out how many unique categories can be curated from all the returned venues\n",
    "3. Calculate percentage of each venue cathegories in each region\n",
    "4. Get top 10 venue cathegory in each region\n",
    "5. Run k-means to cluster the neighborhood into 5 clusters\n",
    "6. Find cluster with bigger count of **regions with cafes on top**\n",
    "7. Build map with colored clusteres\n",
    "8. Find areas of Moscow with **minimal** count of **regions with cafes on top**\n",
    "9. Analyze each potential region for having **Residential area** and **not Industrial Zone**"
   ]
  },
  {
   "cell_type": "markdown",
   "metadata": {},
   "source": [
    "### Results"
   ]
  },
  {
   "cell_type": "markdown",
   "metadata": {},
   "source": [
    "So, after analyzing we can see Moscow map with clustered regions. <br>\n",
    "(**green** - regions with cafes on top, **purple** - regions with residents and parks, **red** - industrial)"
   ]
  },
  {
   "attachments": {},
   "cell_type": "markdown",
   "metadata": {},
   "source": [
    "![Moscow_Cafe_Map.JPG](images/Moscow_Cafe_Map.JPG)"
   ]
  },
  {
   "cell_type": "markdown",
   "metadata": {},
   "source": [
    "We can detect some areas with small amount of regions with **cafes not on the top** of list:"
   ]
  },
  {
   "cell_type": "markdown",
   "metadata": {},
   "source": [
    "#### Potential area 1"
   ]
  },
  {
   "attachments": {},
   "cell_type": "markdown",
   "metadata": {},
   "source": [
    "![Moscow_Cafe_Map_Empty_1.JPG](images/Moscow_Cafe_Map_Empty_1.JPG)"
   ]
  },
  {
   "cell_type": "markdown",
   "metadata": {},
   "source": [
    "In this area we have beautiful park, a lot of residants and no industry at all. This is **perfect region** for new cafe or restaurant, because we have **a lot of people** and **small amount of cafes**."
   ]
  },
  {
   "cell_type": "markdown",
   "metadata": {},
   "source": [
    "#### Potential area 2"
   ]
  },
  {
   "attachments": {},
   "cell_type": "markdown",
   "metadata": {},
   "source": [
    "![Moscow_Cafe_Map_Empty_2.JPG](images/Moscow_Cafe_Map_Empty_2.JPG)"
   ]
  },
  {
   "cell_type": "markdown",
   "metadata": {},
   "source": [
    "In this area situation is the same that in thirst. This is **perfect region** for new cafe or restaurant, because we have **a lot of people** and **small amount of cafes**."
   ]
  },
  {
   "cell_type": "markdown",
   "metadata": {},
   "source": [
    "#### Potential area 3"
   ]
  },
  {
   "attachments": {},
   "cell_type": "markdown",
   "metadata": {},
   "source": [
    "![Moscow_Cafe_Map_Empty_3.JPG](images/Moscow_Cafe_Map_Empty_3.JPG)"
   ]
  },
  {
   "cell_type": "markdown",
   "metadata": {},
   "source": [
    "In this area we have **more parks** than in previous areas and small amount of cafes/restaurants too. This is **perfect region** for new cafe or restaurant, because we have **a lot of people** and **small amount of cafes**. We recomend to make cafe **inside park**."
   ]
  },
  {
   "cell_type": "markdown",
   "metadata": {},
   "source": [
    "#### Potential area 4"
   ]
  },
  {
   "attachments": {},
   "cell_type": "markdown",
   "metadata": {},
   "source": [
    "![Moscow_Cafe_Map_Empty_5.JPG](images/Moscow_Cafe_Map_Empty_5.JPG)"
   ]
  },
  {
   "cell_type": "markdown",
   "metadata": {},
   "source": [
    "In this area we have **more industry** than in previous areas and small amount of cafes/restaurants too. This is **good region** for new cafe or restaurant, but we recomend to make cafe near river and park, because regions near this place is not industry, but have a lot of residents."
   ]
  },
  {
   "cell_type": "markdown",
   "metadata": {},
   "source": [
    "### Conclusion"
   ]
  },
  {
   "cell_type": "markdown",
   "metadata": {},
   "source": [
    "In this paper, an analysis was conducted on the choice of the area of the city to create a cafe.<br>\n",
    "The basis was taken Moscow and the data from the service Fourskuare.<br>\n",
    "As a result, 4 main districts of the city were identified in which it is best to place a cafe and\n",
    "recommendations were given on the choice of location.<br>\n",
    "This work can be taken as a basis for obtaining similar analytics in other cities."
   ]
  }
 ],
 "metadata": {
  "kernelspec": {
   "display_name": "Python 3",
   "language": "python",
   "name": "python3"
  },
  "language_info": {
   "codemirror_mode": {
    "name": "ipython",
    "version": 3
   },
   "file_extension": ".py",
   "mimetype": "text/x-python",
   "name": "python",
   "nbconvert_exporter": "python",
   "pygments_lexer": "ipython3",
   "version": "3.6.7"
  }
 },
 "nbformat": 4,
 "nbformat_minor": 2
}
