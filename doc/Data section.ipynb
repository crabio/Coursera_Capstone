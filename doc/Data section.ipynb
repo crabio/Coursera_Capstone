{
 "cells": [
  {
   "cell_type": "markdown",
   "metadata": {},
   "source": [
    "### Data section"
   ]
  },
  {
   "cell_type": "markdown",
   "metadata": {},
   "source": [
    "In Introduction section it was said that we we must identify the factors affecting the success of a business and collect them. \n",
    "For get all necessary data we should perform theese steps:"
   ]
  },
  {
   "cell_type": "markdown",
   "metadata": {},
   "source": [
    "1. We should collect all neighbourhoods of **Moscow, Russia**. At this tep we can get all **postal codes**from http://mosopen.ru/streets/post_codes_list. But we must pre-process data to have unique postal codes of regions.\n",
    "2. After that we have list of all Moscow postal codes and can get them **coordinates** from **Openstreetmap** with **Nominatim API**. URL must view like *https://nominatim.openstreetmap.org/search?format=xml&city=Moscow&postalcode=117623*\n",
    "3. After collecting all coordinates of postal codes in Moscow to *pandas DataFrame* we can get infromation about most populat venues from **Foursquare**.\n",
    "4. After that we can **aggregate** and **analyze data** like in previous tasks with Toronto data. Can get useful information to dettect reasons of choosing **best location** in Moscow city."
   ]
  }
 ],
 "metadata": {
  "kernelspec": {
   "display_name": "Python 3",
   "language": "python",
   "name": "python3"
  },
  "language_info": {
   "codemirror_mode": {
    "name": "ipython",
    "version": 3
   },
   "file_extension": ".py",
   "mimetype": "text/x-python",
   "name": "python",
   "nbconvert_exporter": "python",
   "pygments_lexer": "ipython3",
   "version": "3.6.7"
  }
 },
 "nbformat": 4,
 "nbformat_minor": 2
}
